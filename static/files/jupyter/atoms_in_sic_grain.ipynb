{
 "cells": [
  {
   "cell_type": "markdown",
   "id": "1fa71d36",
   "metadata": {},
   "source": [
    "# The number of atoms in a SiC stardust grain\n",
    "\n",
    "Date: 2022-03-26  \n",
    "Author: reto  \n",
    "Categories: Presolar Grains  \n",
    "Tags: Stardust, Introduction, Jupyter  \n",
    "<!--eofm-->"
   ]
  },
  {
   "cell_type": "markdown",
   "id": "b6775cfe",
   "metadata": {},
   "source": [
    "[![Binder](https://mybinder.org/badge_logo.svg)](https://mybinder.org/v2/gh/galactic-forensics/website/HEAD?labpath=static%2Ffiles%2Fjupyter%2Fatoms_in_sic_grain.ipynb)\n",
    "\n",
    "In this article, we will analyze how many atoms of a given trace element are in a presolar SiC grain of a given size. Furthermore, the Jupyter notebook in which this article was written is available via [`binder`](https://mybinder.org/), so you can adjust it at any point to change the calculations and adopt it to your needs. Click on the icon on top to run this notebook in [`binder`](https://mybinder.org/). Throughout this notebook we will be using SI units.\n",
    "\n",
    "First, let us calculate the mass of a given SiC grain. We therefore need to define its radius $r$ and it's typical density $\\rho = 3160\\,$kg m$^{-3}$ (according to [Wikipedia](https://en.wikipedia.org/wiki/Silicon_carbide)). Via the volume $V$ for a spherical grain\n",
    "\n",
    "\\begin{equation}\n",
    "        V = \\frac{4}{3} \\pi r^3,\n",
    "\\end{equation}\n",
    "\n",
    "we can calculate the mass of the grain as:\n",
    "\n",
    "\\begin{equation}\n",
    "        m = V\\rho = \\frac{4}{3} \\pi r^3 \\rho\n",
    "\\end{equation}\n",
    "\n",
    "For a given radius, we can now write a `python` function to calculate the mass as following:"
   ]
  },
  {
   "cell_type": "code",
   "execution_count": 1,
   "id": "e414d25e",
   "metadata": {},
   "outputs": [],
   "source": [
    "import math\n",
    "\n",
    "rho = 3160  # kg / m**3\n",
    "def mass(r: float) -> float:\n",
    "    \"\"\"Calculate mass of spherical grain with density `rho`.\n",
    "    \n",
    "    :param r: Radius in meters\n",
    "    \n",
    "    :return: Mass in kg\n",
    "    \"\"\"\n",
    "    return 4/3 * math.pi * r**3 * rho"
   ]
  },
  {
   "cell_type": "markdown",
   "id": "e2b4fa6c",
   "metadata": {},
   "source": [
    "The approximate molar mass of SiC is the molar mass of a silicon atom plus the molar mass of a carbon atom, therefore $M_\\mathrm{SiC} = 40\\,$g mol$^{-1}$. Let us assume we have some trace element, e.g., iron, given at a concentration of 10 ppm. If the concentration is by weight $c_{wt}$, we can directly calculate the mass of all the iron as:\n",
    "\n",
    "\\begin{equation}\n",
    "    m_\\mathrm{Fe} = c_{wt} \\times m\n",
    "\\end{equation}\n",
    "\n",
    "If the concentration is given by number of atoms $c_n$, we first have to convert it first in order to calculate the mass of iron of the grain. For this, we need to know the molar mass of iron, which is approximately $M_\\mathrm{Fe} = 56\\,$g mol$^{-1}$. The mass of iron can in this case be calculated as:\n",
    "\n",
    "\\begin{equation}\n",
    "    m_\\mathrm{Fe} = c_n \\frac{M_\\mathrm{Fe}}{M_\\mathrm{SiC}} \\times m\n",
    "\\end{equation}\n",
    "\n",
    "Let us now calculate the mass of the species of interest with `python`:"
   ]
  },
  {
   "cell_type": "code",
   "execution_count": 2,
   "id": "887184e9",
   "metadata": {},
   "outputs": [],
   "source": [
    "molar_mass_sic = 40 * 1e-3  # kg / mol\n",
    "\n",
    "# calculate mass of a species of interest\n",
    "def mass_species(r: float, mol_mass: float, conc: float, conc_as_weight: bool) -> float:\n",
    "    \"\"\"Calculate mass of the given species in a SiC grain.\n",
    "    \n",
    "    :param r: Radius of the SiC grain in m.\n",
    "    :param mol_mass: Molar mass of the species of interest in kg / mol.\n",
    "    :param conc: Concentration of the species of interest.\n",
    "    :param conc_as_weight: Is the concentration per weight (`True`) or by number (`False`).\n",
    "    \n",
    "    :return: Mass of species in kg\n",
    "    \"\"\"\n",
    "    cwt = conc if conc_as_weight else conc * mol_mass / molar_mass_sic\n",
    "    mass_species = cwt * mass(r)\n",
    "    return mass_species"
   ]
  },
  {
   "cell_type": "markdown",
   "id": "8c57ca86",
   "metadata": {},
   "source": [
    "Finally, we know that per mol of material, Avogadro's number $N_A = 6.0221415 \\times 10^{23}$ of atoms are present. For iron, we could therefore calculate the number of atoms as:\n",
    "\n",
    "\\begin{equation}\n",
    "    n_\\mathrm{Fe} = N_A \\frac{m_\\mathrm{Fe}}{M_\\mathrm{Fe}}\n",
    "\\end{equation}\n",
    "\n",
    "Here, $M_\\mathrm{Fe}$ is again the molar mass of iron. We can now create our final function in `python`:"
   ]
  },
  {
   "cell_type": "code",
   "execution_count": 3,
   "id": "1acc03d8",
   "metadata": {},
   "outputs": [],
   "source": [
    "n_a = 6.0221415e23\n",
    "\n",
    "def number_of_atoms(r: float, mol_mass: float, conc: float, conc_as_weight: bool) -> float:\n",
    "    \"\"\"Calculate the number of atoms for a given species in a presolar SiC grain.\n",
    "    \n",
    "    :param r: Radius of the SiC grain.\n",
    "    :param mol_mass: Molar mass of the species of interest in kg / mol.\n",
    "    :param conc: Concentration of the species of interest.\n",
    "    :param conc_as_weight: Is the concentration per weight (`True`) or by number (`False`).\n",
    "    \n",
    "    :return: Mass of species in kg\n",
    "    \"\"\"\n",
    "    m_species = mass_species(r, mol_mass, conc, conc_as_weight)\n",
    "    n_species = n_a * m_species / mol_mass\n",
    "    return n_species"
   ]
  },
  {
   "cell_type": "markdown",
   "id": "8a44b02f",
   "metadata": {},
   "source": [
    "We can now run some examples using the everything we just created.\n",
    "\n",
    "**Example 1:** Assume we have 10 ppm by weight of iron in a grain with 1 µm radius. We can then calculate the number of atoms as:"
   ]
  },
  {
   "cell_type": "code",
   "execution_count": 4,
   "id": "15878295",
   "metadata": {},
   "outputs": [
    {
     "name": "stdout",
     "output_type": "stream",
     "text": [
      "Number of iron atoms per grain: 1.423e+06\n"
     ]
    }
   ],
   "source": [
    "r = 1e-6\n",
    "mol_mass = 56e-3\n",
    "conc = 10e-6\n",
    "conc_as_weight = True\n",
    "\n",
    "n_fe = number_of_atoms(r, mol_mass, conc, conc_as_weight)\n",
    "print(f\"Number of iron atoms per grain: {n_fe:.3e}\")"
   ]
  },
  {
   "cell_type": "markdown",
   "id": "ed6a3734",
   "metadata": {},
   "source": [
    "**Example 2:** We can perform the same calculation, assuming that the concentration is per number. Since the molar mass of iron is heavier than the molar mass of SiC, we would expect the total number of atoms to be larger than in example 1. Let's see if that is true:"
   ]
  },
  {
   "cell_type": "code",
   "execution_count": 5,
   "id": "b64381b8",
   "metadata": {},
   "outputs": [
    {
     "name": "stdout",
     "output_type": "stream",
     "text": [
      "Number of iron atoms per grain: 1.993e+06\n"
     ]
    }
   ],
   "source": [
    "n_fe = number_of_atoms(r, mol_mass, conc, False)\n",
    "print(f\"Number of iron atoms per grain: {n_fe:.3e}\")"
   ]
  },
  {
   "cell_type": "markdown",
   "id": "4f2fbcd2",
   "metadata": {},
   "source": [
    "This simple Jupyter Notebook allows  you to determine how many atoms of a species you would expect in a SiC stardust grain. If you then want to measure the atoms, you'll know what you're up against. Good luck!"
   ]
  }
 ],
 "metadata": {
  "kernelspec": {
   "display_name": "Python 3 (ipykernel)",
   "language": "python",
   "name": "python3"
  },
  "language_info": {
   "codemirror_mode": {
    "name": "ipython",
    "version": 3
   },
   "file_extension": ".py",
   "mimetype": "text/x-python",
   "name": "python",
   "nbconvert_exporter": "python",
   "pygments_lexer": "ipython3",
   "version": "3.10.0"
  }
 },
 "nbformat": 4,
 "nbformat_minor": 5
}
